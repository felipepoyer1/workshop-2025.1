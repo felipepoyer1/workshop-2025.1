{
 "cells": [
  {
   "cell_type": "markdown",
   "metadata": {},
   "source": [
    "### Minicurso LABREN explorando dados com IA 🚀\n",
    "Neste minicurso, você aprenderá a explorar conjuntos de dados utilizando a ajuda de um assistente de IA. Usaremos um contjunto de dados metorológicos para analisar suas variáveis e gerar visualizações que facilitam a interpretação dos resultados.\n",
    "\n",
    "- Dados Meteorológicos: dados_meteorologicos.parquet\n",
    "\n",
    "\n",
    "#### Objetivos do Minicurso: aaaa\n",
    "\n",
    "- 🤖 Formular prompts para que a IA auxilie na criação de códigos.\n",
    "- 🗄️ Integrar SQL com o DuckDB para carregar e manipular dados em formato Parquet.\n",
    "- 📊 Explorar os dados por meio de consultas SQL para obter insights relevantes.\n",
    "- 📈 Gerar visualizações (inclusive espaciais) que facilitam a interpretação dos resultados, aproveitando as coordenadas presentes nos dados.\n",
    "\n",
    "#### Cronograma:\n",
    "\n",
    "1. Introdução e Objetivos:\n",
    "\n",
    "- Apresentação do minicurso e dos conjuntos de dados.\n",
    "- Explicação do papel da IA na criação de código e análise de dados.\n",
    "\n",
    "2. Configuração do Ambiente:\n",
    "\n",
    "- Importar bibliotecas para abrir dados em formato Parquet, manipulação e visualização, incluindo visualizações espaciais.\n",
    "\n",
    "3. Carregamento dos Dados:\n",
    "\n",
    "- Criar comandos para carregar os dados Parquet.\n",
    "- Visualizar os 5 primeiros registros do conjunto de dados.\n",
    "\n",
    "4. Exploração dos Dados:\n",
    "\n",
    "- Realizar consultas SQL para explorar as variáveis do conjunto de dados.\n",
    "- Gerar visualizações para facilitar a interpretação dos resultados.\n",
    "\n",
    "5. Conclusão:"
   ]
  },
  {
   "cell_type": "markdown",
   "metadata": {},
   "source": [
    "### 1. Configuração do Ambiente ⚙️\n",
    "\n",
    "Para começar, vamos importar as bibliotecas necessárias para abrir os dados em formato Parquet, manipulação e visualização, incluindo visualizações espaciais."
   ]
  },
  {
   "cell_type": "code",
   "execution_count": null,
   "metadata": {},
   "outputs": [],
   "source": [
    "# Instale, importe e inicialize bibliotecas para abrir dados no formato Parquet usando DuckDB\n",
    "# e também bibliotecas para visualização dos dados.\n",
    "!pip install duckdb pandas matplotlib seaborn\n",
    "\n",
    "import duckdb\n",
    "import pandas as pd\n",
    "import matplotlib.pyplot as plt\n",
    "import seaborn as sns\n",
    "\n",
    "# Inicialize o DuckDB\n",
    "con = duckdb.connect(database=':memory:', read_only=False)"
   ]
  },
  {
   "cell_type": "markdown",
   "metadata": {},
   "source": [
    "#### 2. Download e Carregamento dos Dados 📊\n",
    "\n",
    "Baixe os dados meteorológicos para o ambiente de execução do minicurso. Em seguida, carregue os dados para visualizar os 5 primeiros registros do conjunto de dados."
   ]
  },
  {
   "cell_type": "code",
   "execution_count": null,
   "metadata": {},
   "outputs": [],
   "source": [
    "# Baixe o os arquivos dados_meteorologicos.parquet que estão no google drive\n",
    "#  ulr vou listar para você:\n",
    "\n",
    "url_meteoro = 'https://drive.google.com/uc?id=1MES_nefJ_V2ZamOFTXzzHCdtH7Fh0qq2'\n",
    "\n",
    "# Instale a biblioteca gdown para baixar os arquivos\n",
    "!pip install gdown\n",
    "\n",
    "# Baixe os arquivos\n",
    "import gdown\n",
    "\n",
    "gdown.download(url_meteoro, 'dados_meteorologicos.parquet', quiet=False)"
   ]
  },
  {
   "cell_type": "code",
   "execution_count": null,
   "metadata": {},
   "outputs": [],
   "source": [
    "# Crie um código para carregar os dados dos arquivos dados_meteorologicos.parquet utilizando o DuckDB.\n",
    "# Mostre os 5 primeiros registros de cada conjunto como um DataFrame do Pandas.\n",
    "ARQV_METEOROLOGICO = 'dados_meteorologicos.parquet'\n",
    "\n",
    "# Crie uma query para gerar uma tabela no DuckDB com os dados meteorológicos caso ela não exista\n",
    "query = f'CREATE TABLE IF NOT EXISTS dados_meteorologicos AS SELECT * FROM parquet_scan(\\'{ARQV_METEOROLOGICO}\\')'\n",
    "\n",
    "# Execute a query\n",
    "con.execute(query)"
   ]
  },
  {
   "cell_type": "code",
   "execution_count": null,
   "metadata": {},
   "outputs": [],
   "source": [
    "# Mostre os 5 primeiros registros da tabela\n",
    "query = 'SELECT * FROM dados_meteorologicos LIMIT 5'\n",
    "\n",
    "# Execute a query\n",
    "df = con.execute(query).fetchdf()\n",
    "df"
   ]
  },
  {
   "cell_type": "code",
   "execution_count": null,
   "metadata": {},
   "outputs": [],
   "source": [
    "# Crie um código para mostrar a quantidade de registros de cada conjunto de dados.\n",
    "# Mostre a quantidade de registros de cada estação meteorológica (coluna \"acronym\").\n",
    "query = 'SELECT acronym,' \\\n",
    "        '       COUNT(*) AS quantidade_registros' \\\n",
    "        '  FROM dados_meteorologicos' \\\n",
    "        ' GROUP BY acronym' \\\n",
    "        ' ORDER BY quantidade_registros DESC'\n",
    "\n",
    "# Execute a query\n",
    "df = con.execute(query).fetchdf()\n",
    "df"
   ]
  },
  {
   "cell_type": "markdown",
   "metadata": {},
   "source": [
    "### 4. Visualizações dos Dados 📊\n",
    "\n",
    "Vamos criar gráficos de linha e barras para visualizar as informações extraídas. "
   ]
  },
  {
   "cell_type": "code",
   "execution_count": null,
   "metadata": {},
   "outputs": [],
   "source": [
    "# Plote um gráfico de barras para mostrar a quantidade de registros de cada estação meteorológica.\n",
    "plt.figure(figsize=(10, 5))\n",
    "sns.barplot(data=df, x='quantidade_registros', y='acronym')\n",
    "plt.xlabel('Quantidade de Registros')\n",
    "plt.ylabel('Estação Meteorológica')\n",
    "plt.title('Quantidade de Registros por Estação Meteorológica')\n",
    "plt.show()"
   ]
  },
  {
   "cell_type": "code",
   "execution_count": null,
   "metadata": {},
   "outputs": [],
   "source": [
    "# Plote um gráfico de barras para mostrar a quantidade de registros de cada estação por ano.\n",
    "# Lembre-se de que a coluna \"timestamp\" contém a data no formato \"YYYY-MM-DD HH:MM:SS\".\n",
    "# Lembre-se também que timestamp é uma palavra reservada do DuckDB, então é necessário usar aspas duplas para referenciar a coluna.\n",
    "query = 'SELECT acronym,' \\\n",
    "        '       strftime(\\'%Y\\', \"timestamp\") AS ano,' \\\n",
    "        '       COUNT(*) AS quantidade_registros' \\\n",
    "        '  FROM dados_meteorologicos' \\\n",
    "        ' GROUP BY acronym, ano' \\\n",
    "        ' ORDER BY quantidade_registros DESC'\n",
    "# Execute a query\n",
    "df = con.execute(query).fetchdf()\n",
    "\n",
    "# Plote o gráfico de barras\n",
    "plt.figure(figsize=(10, 10))\n",
    "sns.barplot(data=df, x='quantidade_registros', y='acronym', hue='ano')\n",
    "plt.xlabel('Quantidade de Registros')\n",
    "plt.ylabel('Estação Meteorológica')\n",
    "plt.title('Quantidade de Registros por Estação Meteorológica e Ano')\n",
    "plt.legend(title='Ano', bbox_to_anchor=(1.05, 1), loc='upper left')\n",
    "plt.show()"
   ]
  },
  {
   "cell_type": "code",
   "execution_count": null,
   "metadata": {},
   "outputs": [],
   "source": [
    "# Plot um gráfico de linhas que mostre os valores médios de temperatura (coluna \"tp_sfc\") por mês para cada estação meteorológica.\n",
    "# Lembre-se de que a coluna \"timestamp\" contém a data no formato \"YYYY-MM-DD HH:MM:SS\".\n",
    "# Lembre-se também que timestamp é uma palavra reservada do DuckDB, então é necessário usar aspas duplas para referenciar a coluna.\n",
    "\n",
    "# Query para calcular a média de temperatura por mês e estação meteorológica\n",
    "query = 'SELECT acronym,' \\\n",
    "        '       strftime(\\'%m\\', \"timestamp\") AS mes,' \\\n",
    "        '       AVG(tp_sfc) AS media_temperatura' \\\n",
    "        '  FROM dados_meteorologicos' \\\n",
    "        ' GROUP BY acronym, mes' \\\n",
    "        ' ORDER BY mes'\n",
    "\n",
    "# Execute a query\n",
    "df = con.execute(query).fetchdf()\n",
    "\n",
    "# Plote o gráfico de linhas\n",
    "plt.figure(figsize=(10, 10))\n",
    "sns.lineplot(data=df, x='mes', y='media_temperatura', hue='acronym', marker='o')\n",
    "plt.xlabel('Mês')\n",
    "plt.ylabel('Temperatura Média (°C)')\n",
    "plt.title('Temperatura Média por Mês e Estação Meteorológica')\n",
    "plt.legend(title='Estação Meteorológica', bbox_to_anchor=(1.05, 1), loc='upper left')\n",
    "plt.show()\n",
    "\n"
   ]
  },
  {
   "cell_type": "markdown",
   "metadata": {},
   "source": [
    "#### 4.1. Gráfico de Boxplot\n",
    "\n",
    "Vamos criar um gráfico de boxplot para visualizar a distribuição das temperaturas máximas e mínimas.<br>\n",
    "Você irá montar uma consulta SQL para extrair as informações necessárias e gerar o gráfico.<br>\n",
    "Caso a consulta esteja incorreta, a IA irá auxiliá-lo a corrigir o código. Para isso selecione o trecho de código e pressione Ctrl + I para chamar a IA."
   ]
  },
  {
   "cell_type": "code",
   "execution_count": null,
   "metadata": {},
   "outputs": [],
   "source": [
    "# Plot um gráfico para encontrar os outliers da coluna \"tp_sfc\" (temperatura do ar na superfície) para cada estação meteorológica.\n",
    "# Utilize um boxplot para cada estação meteorológica apenas com os outliers.\n",
    "# Lembre-se de que a coluna \"timestamp\" contém a data no formato \"YYYY-MM-DD HH:MM:SS\".\n",
    "# Lembre-se também que timestamp é uma palavra reservada do DuckDB, então é necessário usar aspas duplas para referenciar a coluna.\n",
    "\n",
    "# Query para encontrar os outliers da temperatura do ar na superfície por estação meteorológica\n",
    "query = 'SELECT acronym,' \\\n",
    "        '       tp_sfc' \\\n",
    "        '  FROM dados_meteorologicos' \\\n",
    "        ' WHERE tp_sfc < (SELECT Q1 - 1.5 * IQR FROM (SELECT acronym,' \\\n",
    "        '                                                  QUANTILE(tp_sfc, 0.25) AS Q1,' \\\n",
    "        '                                                  QUANTILE(tp_sfc, 0.75) AS Q3,' \\\n",
    "        '                                                  Q3 - Q1 AS IQR' \\\n",
    "        '                                             FROM dados_meteorologicos' \\\n",
    "        '                                            GROUP BY acronyms))' \\\n",
    "        '    OR tp_sfc > (SELECT Q3 + 1.5 * IQR FROM (SELECT acronyms,' \\\n",
    "        '                                                  QUANTILE(tp_sfc, 0.25) AS Q1,' \\\n",
    "        '                                                  QUANTILE(tp_sfc, 0.75) AS Q3,' \\\n",
    "        '                                                  Q3 - Q1 AS IQR' \\\n",
    "        '                                             FROM dados_meteorologicos' \\\n",
    "        '                                            GROUP BY acronyms))'\n",
    "\n",
    "# Execute a query\n",
    "df = con.execute(query).fetchdf()\n",
    "\n",
    "\n",
    "# Plote o boxplot\n",
    "plt.figure(figsize=(10, 10))\n",
    "sns.boxplot(data=df, x='acronym', y='tp_sfc')\n",
    "plt.xlabel('Estação Meteorológica')\n",
    "plt.ylabel('Temperatura do Ar na Superfície (°C)')\n",
    "plt.title('Outliers da Temperatura do Ar na Superfície por Estação Meteorológica')\n",
    "plt.show()"
   ]
  },
  {
   "cell_type": "markdown",
   "metadata": {},
   "source": [
    "#### 5. Conclusão 🚀\n",
    "\n",
    "Parabéns! Você concluiu o minicurso LABREN explorando dados com IA. Agora você está pronto para aplicar esses conhecimentos em seus próprios projetos. Até a próxima!"
   ]
  }
 ],
 "metadata": {
  "kernelspec": {
   "display_name": "base",
   "language": "python",
   "name": "python3"
  },
  "language_info": {
   "codemirror_mode": {
    "name": "ipython",
    "version": 3
   },
   "file_extension": ".py",
   "mimetype": "text/x-python",
   "name": "python",
   "nbconvert_exporter": "python",
   "pygments_lexer": "ipython3",
   "version": "3.11.7"
  }
 },
 "nbformat": 4,
 "nbformat_minor": 2
}
